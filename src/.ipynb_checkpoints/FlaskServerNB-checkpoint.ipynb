{
 "metadata": {
  "name": "",
  "signature": "sha256:ead088b46455f848599c8f48fe8505feabbce8165f436f4d47f5474fe9c3e038"
 },
 "nbformat": 3,
 "nbformat_minor": 0,
 "worksheets": [
  {
   "cells": [
    {
     "cell_type": "code",
     "collapsed": false,
     "input": [
      "#!/usr/bin/env python\n",
      "# -*- coding: utf-8 -*-\n",
      "\"\"\"\n",
      "SYNOPSIS\n",
      "\n",
      "    flask_gridfs_images.py --start\n",
      "    flask_gridfs_images.py --add <IMAGE_URL>\n",
      "    \n",
      "DESCRIPTION\n",
      "\n",
      "    Use the --add option to download and insert an image into a mongo gridfs\n",
      "    collection. Use the --start option to start a Flask application that can\n",
      "    serve images at the url /example_image.jpg.    \n",
      "    \n",
      "AUTHOR\n",
      "\n",
      "    Jason Cupp <jason at cuppster.com>\n",
      "    \n",
      "LICENSE\n",
      "    \n",
      "    Public Domain\n",
      "\n",
      "\"\"\"\n",
      "\n",
      "from flask import Flask, send_file\n",
      "\n",
      "import argparse\n",
      "import cStringIO\n",
      "import mimetypes\n",
      "import requests\n",
      "from PIL import Image\n",
      "\n",
      "from pymongo import Connection\n",
      "import gridfs\n",
      "\n",
      "\n",
      "# setup mongo\n",
      "MONGODB_HOST = 'localhost'\n",
      "MONGODB_PORT = 27017\n",
      "\n",
      "# connect to the database & get a gridfs handle\n",
      "mongo_con = Connection(MONGODB_HOST, MONGODB_PORT)\n",
      "grid_fs = gridfs.GridFS(mongo_con.test_database)\n",
      "\n",
      "\n",
      "def serve_image(pillow_img):\n",
      "    \"\"\"\n",
      "    see: \n",
      "        https://groups.google.com/forum/?fromgroups=#!topic/python-tornado/B19D6ll_uZE\n",
      "        http://stackoverflow.com/questions/7877282/how-to-send-image-generated-by-pil-to-browser\n",
      "    \"\"\"\n",
      "    img_io = cStringIO.StringIO() \n",
      "    pillow_img.save(img_io, 'JPEG', quality=70)\n",
      "    img_io.seek(0)\n",
      "    return send_file(img_io, mimetype='image/jpeg')\n",
      "    \n",
      "    \n",
      "def add_image(image_url):\n",
      "    \"\"\"add an image to mongo's gridfs\"\"\"\n",
      "        \n",
      "    # gridfs filename\n",
      "    gridfs_filename = 'example_image.jpg'        \n",
      "   \n",
      "    # guess the mimetype and request the image resource\n",
      "    mime_type = mimetypes.guess_type(image_url)[0]        \n",
      "    r = requests.get(image_url, stream=True)\n",
      " \n",
      "    # insert the resource into gridfs using the raw stream\n",
      "    _id = grid_fs.put(r.raw, contentType=mime_type, filename=gridfs_filename)\n",
      "    print \"created new gridfs file {0} with id {1}\".format(gridfs_filename, _id)\n",
      "\n",
      "\n",
      "def start():\n",
      "    \"\"\"start the flask service\"\"\"\n",
      "    \n",
      "    # create app\n",
      "    app = Flask(__name__)\n",
      "    app.debug = True\n",
      "    \n",
      "    # our ONE route, to serve up image from gridfs\n",
      "    @app.route('/image/<path:filename>')\n",
      "    def get_image(filename):        \n",
      "        \"\"\"retrieve an image from mongodb gridfs\"\"\"\n",
      "        \n",
      "        if not grid_fs.exists(filename=filename):\n",
      "            raise Exception(\"mongo file does not exist! {0}\".format(filename))\n",
      "        \n",
      "        im_stream = grid_fs.get_last_version(filename)\n",
      "        im = Image.open(im_stream)\n",
      "        return serve_pil_image(im)\n",
      "    \n",
      "    \n",
      "    # let's go!\n",
      "    app.run()\n",
      "    \n",
      "\n",
      "def main():\n",
      "    \n",
      "    # CLI\n",
      "    parser = argparse.ArgumentParser()    \n",
      "    parser.add_argument('--start', action='store_true', help='start the service')\n",
      "    parser.add_argument('--add', help='add an image via URL')    \n",
      "    args = parser.parse_args()\n",
      "    \n",
      "    if args.start:\n",
      "        start()\n",
      "    elif args.add:\n",
      "        add_image(args.add)\n",
      "\n",
      "    \n",
      "if __name__ == \"__main__\":\n",
      "    main()\n",
      "    "
     ],
     "language": "python",
     "metadata": {},
     "outputs": [
      {
       "output_type": "stream",
       "stream": "stderr",
       "text": [
        "usage: -c [-h] [--start] [--add ADD]\n",
        "-c: error: unrecognized arguments: -f /Users/johnb/virtualenvs/FLASKREST/src/security/kernel-c689dc20-85b6-480d-b746-bd6f6f2f0dbb.json --IPKernelApp.parent_appname='ipython-notebook' --profile-dir /Users/johnb/virtualenvs/FLASKREST/src --parent=1\n"
       ]
      },
      {
       "ename": "SystemExit",
       "evalue": "2",
       "output_type": "pyerr",
       "traceback": [
        "An exception has occurred, use %tb to see the full traceback.\n",
        "\u001b[0;31mSystemExit\u001b[0m\u001b[0;31m:\u001b[0m 2\n"
       ]
      },
      {
       "output_type": "stream",
       "stream": "stderr",
       "text": [
        "To exit: use 'exit', 'quit', or Ctrl-D.\n"
       ]
      }
     ],
     "prompt_number": 1
    },
    {
     "cell_type": "code",
     "collapsed": false,
     "input": [
      "%tb"
     ],
     "language": "python",
     "metadata": {},
     "outputs": [
      {
       "ename": "SystemExit",
       "evalue": "2",
       "output_type": "pyerr",
       "traceback": [
        "\u001b[0;31m---------------------------------------------------------------------------\u001b[0m\n\u001b[0;31mSystemExit\u001b[0m                                Traceback (most recent call last)",
        "\u001b[0;32m<ipython-input-1-810da7f3cc52>\u001b[0m in \u001b[0;36m<module>\u001b[0;34m()\u001b[0m\n\u001b[1;32m    110\u001b[0m \u001b[0;34m\u001b[0m\u001b[0m\n\u001b[1;32m    111\u001b[0m \u001b[0;32mif\u001b[0m \u001b[0m__name__\u001b[0m \u001b[0;34m==\u001b[0m \u001b[0;34m\"__main__\"\u001b[0m\u001b[0;34m:\u001b[0m\u001b[0;34m\u001b[0m\u001b[0m\n\u001b[0;32m--> 112\u001b[0;31m     \u001b[0mmain\u001b[0m\u001b[0;34m(\u001b[0m\u001b[0;34m)\u001b[0m\u001b[0;34m\u001b[0m\u001b[0m\n\u001b[0m\u001b[1;32m    113\u001b[0m \u001b[0;34m\u001b[0m\u001b[0m\n",
        "\u001b[0;32m<ipython-input-1-810da7f3cc52>\u001b[0m in \u001b[0;36mmain\u001b[0;34m()\u001b[0m\n\u001b[1;32m    101\u001b[0m     \u001b[0mparser\u001b[0m\u001b[0;34m.\u001b[0m\u001b[0madd_argument\u001b[0m\u001b[0;34m(\u001b[0m\u001b[0;34m'--start'\u001b[0m\u001b[0;34m,\u001b[0m \u001b[0maction\u001b[0m\u001b[0;34m=\u001b[0m\u001b[0;34m'store_true'\u001b[0m\u001b[0;34m,\u001b[0m \u001b[0mhelp\u001b[0m\u001b[0;34m=\u001b[0m\u001b[0;34m'start the service'\u001b[0m\u001b[0;34m)\u001b[0m\u001b[0;34m\u001b[0m\u001b[0m\n\u001b[1;32m    102\u001b[0m     \u001b[0mparser\u001b[0m\u001b[0;34m.\u001b[0m\u001b[0madd_argument\u001b[0m\u001b[0;34m(\u001b[0m\u001b[0;34m'--add'\u001b[0m\u001b[0;34m,\u001b[0m \u001b[0mhelp\u001b[0m\u001b[0;34m=\u001b[0m\u001b[0;34m'add an image via URL'\u001b[0m\u001b[0;34m)\u001b[0m\u001b[0;34m\u001b[0m\u001b[0m\n\u001b[0;32m--> 103\u001b[0;31m     \u001b[0margs\u001b[0m \u001b[0;34m=\u001b[0m \u001b[0mparser\u001b[0m\u001b[0;34m.\u001b[0m\u001b[0mparse_args\u001b[0m\u001b[0;34m(\u001b[0m\u001b[0;34m)\u001b[0m\u001b[0;34m\u001b[0m\u001b[0m\n\u001b[0m\u001b[1;32m    104\u001b[0m \u001b[0;34m\u001b[0m\u001b[0m\n\u001b[1;32m    105\u001b[0m     \u001b[0;32mif\u001b[0m \u001b[0margs\u001b[0m\u001b[0;34m.\u001b[0m\u001b[0mstart\u001b[0m\u001b[0;34m:\u001b[0m\u001b[0;34m\u001b[0m\u001b[0m\n",
        "\u001b[0;32m/usr/local/Cellar/python/2.7.9/Frameworks/Python.framework/Versions/2.7/lib/python2.7/argparse.pyc\u001b[0m in \u001b[0;36mparse_args\u001b[0;34m(self, args, namespace)\u001b[0m\n\u001b[1;32m   1702\u001b[0m         \u001b[0;32mif\u001b[0m \u001b[0margv\u001b[0m\u001b[0;34m:\u001b[0m\u001b[0;34m\u001b[0m\u001b[0m\n\u001b[1;32m   1703\u001b[0m             \u001b[0mmsg\u001b[0m \u001b[0;34m=\u001b[0m \u001b[0m_\u001b[0m\u001b[0;34m(\u001b[0m\u001b[0;34m'unrecognized arguments: %s'\u001b[0m\u001b[0;34m)\u001b[0m\u001b[0;34m\u001b[0m\u001b[0m\n\u001b[0;32m-> 1704\u001b[0;31m             \u001b[0mself\u001b[0m\u001b[0;34m.\u001b[0m\u001b[0merror\u001b[0m\u001b[0;34m(\u001b[0m\u001b[0mmsg\u001b[0m \u001b[0;34m%\u001b[0m \u001b[0;34m' '\u001b[0m\u001b[0;34m.\u001b[0m\u001b[0mjoin\u001b[0m\u001b[0;34m(\u001b[0m\u001b[0margv\u001b[0m\u001b[0;34m)\u001b[0m\u001b[0;34m)\u001b[0m\u001b[0;34m\u001b[0m\u001b[0m\n\u001b[0m\u001b[1;32m   1705\u001b[0m         \u001b[0;32mreturn\u001b[0m \u001b[0margs\u001b[0m\u001b[0;34m\u001b[0m\u001b[0m\n\u001b[1;32m   1706\u001b[0m \u001b[0;34m\u001b[0m\u001b[0m\n",
        "\u001b[0;32m/usr/local/Cellar/python/2.7.9/Frameworks/Python.framework/Versions/2.7/lib/python2.7/argparse.pyc\u001b[0m in \u001b[0;36merror\u001b[0;34m(self, message)\u001b[0m\n\u001b[1;32m   2372\u001b[0m         \"\"\"\n\u001b[1;32m   2373\u001b[0m         \u001b[0mself\u001b[0m\u001b[0;34m.\u001b[0m\u001b[0mprint_usage\u001b[0m\u001b[0;34m(\u001b[0m\u001b[0m_sys\u001b[0m\u001b[0;34m.\u001b[0m\u001b[0mstderr\u001b[0m\u001b[0;34m)\u001b[0m\u001b[0;34m\u001b[0m\u001b[0m\n\u001b[0;32m-> 2374\u001b[0;31m         \u001b[0mself\u001b[0m\u001b[0;34m.\u001b[0m\u001b[0mexit\u001b[0m\u001b[0;34m(\u001b[0m\u001b[0;36m2\u001b[0m\u001b[0;34m,\u001b[0m \u001b[0m_\u001b[0m\u001b[0;34m(\u001b[0m\u001b[0;34m'%s: error: %s\\n'\u001b[0m\u001b[0;34m)\u001b[0m \u001b[0;34m%\u001b[0m \u001b[0;34m(\u001b[0m\u001b[0mself\u001b[0m\u001b[0;34m.\u001b[0m\u001b[0mprog\u001b[0m\u001b[0;34m,\u001b[0m \u001b[0mmessage\u001b[0m\u001b[0;34m)\u001b[0m\u001b[0;34m)\u001b[0m\u001b[0;34m\u001b[0m\u001b[0m\n\u001b[0m",
        "\u001b[0;32m/usr/local/Cellar/python/2.7.9/Frameworks/Python.framework/Versions/2.7/lib/python2.7/argparse.pyc\u001b[0m in \u001b[0;36mexit\u001b[0;34m(self, status, message)\u001b[0m\n\u001b[1;32m   2360\u001b[0m         \u001b[0;32mif\u001b[0m \u001b[0mmessage\u001b[0m\u001b[0;34m:\u001b[0m\u001b[0;34m\u001b[0m\u001b[0m\n\u001b[1;32m   2361\u001b[0m             \u001b[0mself\u001b[0m\u001b[0;34m.\u001b[0m\u001b[0m_print_message\u001b[0m\u001b[0;34m(\u001b[0m\u001b[0mmessage\u001b[0m\u001b[0;34m,\u001b[0m \u001b[0m_sys\u001b[0m\u001b[0;34m.\u001b[0m\u001b[0mstderr\u001b[0m\u001b[0;34m)\u001b[0m\u001b[0;34m\u001b[0m\u001b[0m\n\u001b[0;32m-> 2362\u001b[0;31m         \u001b[0m_sys\u001b[0m\u001b[0;34m.\u001b[0m\u001b[0mexit\u001b[0m\u001b[0;34m(\u001b[0m\u001b[0mstatus\u001b[0m\u001b[0;34m)\u001b[0m\u001b[0;34m\u001b[0m\u001b[0m\n\u001b[0m\u001b[1;32m   2363\u001b[0m \u001b[0;34m\u001b[0m\u001b[0m\n\u001b[1;32m   2364\u001b[0m     \u001b[0;32mdef\u001b[0m \u001b[0merror\u001b[0m\u001b[0;34m(\u001b[0m\u001b[0mself\u001b[0m\u001b[0;34m,\u001b[0m \u001b[0mmessage\u001b[0m\u001b[0;34m)\u001b[0m\u001b[0;34m:\u001b[0m\u001b[0;34m\u001b[0m\u001b[0m\n",
        "\u001b[0;31mSystemExit\u001b[0m: 2"
       ]
      }
     ],
     "prompt_number": 2
    },
    {
     "cell_type": "code",
     "collapsed": false,
     "input": [],
     "language": "python",
     "metadata": {},
     "outputs": []
    }
   ],
   "metadata": {}
  }
 ]
}