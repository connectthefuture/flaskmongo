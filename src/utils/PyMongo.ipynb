{
 "metadata": {
  "name": "",
  "signature": "sha256:6af6a7b65cd55c2d3db087715a67828dc870fa900915f9cccdc64e264397cfc2"
 },
 "nbformat": 3,
 "nbformat_minor": 0,
 "worksheets": [
  {
   "cells": [
    {
     "cell_type": "code",
     "collapsed": false,
     "input": [
      "## Return an auth'd connection mongodb obj and/or GridGS fs obj ##\n",
      "def connect_gridfs_mongodb(hostname=None,db_name=None):\n",
      "    import pymongo, gridfs, __builtin__\n",
      "    if not hostname:\n",
      "        hostname='127.0.0.1'\n",
      "    mongo = pymongo.MongoClient(hostname, max_pool_size=50, waitQueueMultiple=10)\n",
      "    mongo_db = mongo[db_name]\n",
      "    mongo_db.authenticate('mongo', 'mongo')\n",
      "    fs = ''\n",
      "    fs = gridfs.GridFS(mongo_db)\n",
      "    return mongo_db, fs\n"
     ],
     "language": "python",
     "metadata": {},
     "outputs": []
    },
    {
     "cell_type": "code",
     "collapsed": false,
     "input": [
      "## Find Database Records by key:value dict ##\n",
      "def find_record_gridfs(keyval=None, db_name=None, collection_name=None):\n",
      "    import pymongo, bson, datetime\n",
      "    from bson import Binary, Code\n",
      "    from bson.json_util import dumps\n",
      "    #client = .authenticate('user', 'password', mechanism='SCRAM-SHA-1')\n",
      "    db, fs = connect_gridfs_mongodb(db_name=db_name)\n",
      "    mongo_collection = db[collection_name]\n",
      "    if not keyval:\n",
      "        keyval = {'md5checksum': md5checksum}\n",
      "    key_str = keyval.keys()[0]\n",
      "    key_val = keyval.values()[0]\n",
      "    found = mongo_collection.find({key_str: key_val})\n",
      "    count = found.count()\n",
      "    return (found, count,)\n",
      "\n",
      "find_record_gridfs(keyval=None, db_name=None, collection_name=None)"
     ],
     "language": "python",
     "metadata": {},
     "outputs": []
    },
    {
     "cell_type": "code",
     "collapsed": false,
     "input": [
      "## Find Records in an array Then Group by a field or collection ## Below unwinds the metadata array then\n",
      "def aggregate_metadata_grouped_values(unwind_array=None, grouping_params=None, limit_amt=0):\n",
      "    from bson import Binary, Code, SON\n",
      "    if not unwind_array:\n",
      "        unwind_array=\"$metadata.File\"\n",
      "    if not grouping_params:\n",
      "        grouping_params = \"$metadata.File.Directory\"\n",
      "    piped = [\n",
      "            {\"$unwind\": unwind_array},\n",
      "            {\"$group\": {\"_id\": grouping_params, \"count\": {\"$sum\": 1}}},\n",
      "            {\"$sort\": SON([(\"count\", -1), (\"_id\", -1)])},\n",
      "            {\"$limit\": limit_amt}\n",
      "        ]\n",
      "    ret = mongo_collection.aggregate(piped, allowDiskUse=True)\n",
      "    return ret\n",
      "\n",
      "\n",
      "res = aggregate_metadata_grouped_values(unwind_array=None, grouping_params=None, limit_amt=5)\n",
      "print res"
     ],
     "language": "python",
     "metadata": {},
     "outputs": [
      {
       "output_type": "stream",
       "stream": "stdout",
       "text": [
        "{u'ok': 1.0, u'result': [{u'count': 3977889, u'_id': None}, {u'count': 882, u'_id': u'/mnt/Post_Ready/Retouch_Still/103014_MA/999999999'}, {u'count': 552, u'_id': u'/mnt/Post_Ready/Retouch_Still/102814_MA/999999999'}, {u'count': 465, u'_id': u'/mnt/Post_Ready/Retouch_Still/120314_MA/999999999'}, {u'count': 464, u'_id': u'/mnt/Post_Ready/Retouch_Still/111814_MA/999999999'}]}\n"
       ]
      }
     ],
     "prompt_number": 145
    },
    {
     "cell_type": "code",
     "collapsed": false,
     "input": [
      "## Counts More than 1 uniqueID Set of substr of file, ie colorstyle\n",
      "def get_duplicate_records(db_name=None, collection_name=None):\n",
      "    # Insert a New Document\n",
      "    import pymongo, bson, datetime\n",
      "    from bson import Binary, Code\n",
      "    from bson.json_util import dumps\n",
      "    db, fs = connect_gridfs_mongodb(db_name=db_name)\n",
      "    mongo_collection = db[collection_name]\n",
      "    data = [ \n",
      "            { \"$group\": {\"_id\": {\n",
      "                        \"md5Checksum\": \"$md5\",\n",
      "                        \"contentType\": \"$contentType\",\n",
      "                        \"colorstyle\": { \"$substr\": [\"$filename\",0,9]},\n",
      "                        \"directoryName\": \"$metadata.File.Directory\",\n",
      "                        \"filePathName\": \"$metadata.File.Filename\",\n",
      "                        \"keywords\": \"$metadata.IPTC.Keywords\",\n",
      "                        \"categoryName\": \"$metadata.XMP.Genre\",\n",
      "                        \"imageSize\": \"$metadata.Composite.ImageSize\",\n",
      "\n",
      "            },            \n",
      "                        \"uniqueIds\": { \"$addToSet\": { \"$substr\": [\"$filename\",0,9]}},\n",
      "                        \"count\": { \"$sum\": 1 }}},\n",
      "                        \n",
      "            { \"$match\": \n",
      "                 {\"count\": { \"$gt\": 1 }}},\n",
      "            { \"$sort\": SON([(\"count\", -1), (\"colorstyle\", -1)])},\n",
      "            { \"$limit\": 5}\n",
      "        ]\n",
      "    ret = mongo_collection.aggregate(data, allowDiskUse=True)\n",
      "    return ret\n",
      "\n",
      "res = get_duplicate_records(db_name='gridfs_file7', collection_name='fs.files')\n",
      "print dir(res[0])"
     ],
     "language": "python",
     "metadata": {},
     "outputs": [
      {
       "ename": "KeyError",
       "evalue": "0",
       "output_type": "pyerr",
       "traceback": [
        "\u001b[1;31m---------------------------------------------------------------------------\u001b[0m\n\u001b[1;31mKeyError\u001b[0m                                  Traceback (most recent call last)",
        "\u001b[1;32m<ipython-input-177-4f6c12a1e616>\u001b[0m in \u001b[0;36m<module>\u001b[1;34m()\u001b[0m\n\u001b[0;32m     31\u001b[0m \u001b[1;33m\u001b[0m\u001b[0m\n\u001b[0;32m     32\u001b[0m \u001b[0mres\u001b[0m \u001b[1;33m=\u001b[0m \u001b[0mget_duplicate_records\u001b[0m\u001b[1;33m(\u001b[0m\u001b[0mdb_name\u001b[0m\u001b[1;33m=\u001b[0m\u001b[1;34m'gridfs_file7'\u001b[0m\u001b[1;33m,\u001b[0m \u001b[0mcollection_name\u001b[0m\u001b[1;33m=\u001b[0m\u001b[1;34m'fs.files'\u001b[0m\u001b[1;33m)\u001b[0m\u001b[1;33m\u001b[0m\u001b[0m\n\u001b[1;32m---> 33\u001b[1;33m \u001b[1;32mprint\u001b[0m \u001b[0mdir\u001b[0m\u001b[1;33m(\u001b[0m\u001b[0mres\u001b[0m\u001b[1;33m[\u001b[0m\u001b[1;36m0\u001b[0m\u001b[1;33m]\u001b[0m\u001b[1;33m)\u001b[0m\u001b[1;33m\u001b[0m\u001b[0m\n\u001b[0m",
        "\u001b[1;31mKeyError\u001b[0m: 0"
       ]
      }
     ],
     "prompt_number": 177
    },
    {
     "cell_type": "code",
     "collapsed": false,
     "input": [
      "def mongo_group_uniquemd5_count():\n",
      "    import pymongo, bson, datetime\n",
      "    from bson import Binary, Code, SON\n",
      "    from bson.json_util import dumps\n",
      "    collection_name='fs.files'\n",
      "    db, fs = connect_gridfs_mongodb(db_name='gridfs_file7')\n",
      "    mongo_collection = db[collection_name]\n",
      "    data = [\n",
      "            { \"$group\": {\"_id\": \n",
      "                             { \"firstField\": \"$filename\", \n",
      "                               \"secondField\": \"$md5\" }, \n",
      "                         \"uniqueIds\": \n",
      "                             { \"$addToSet\": \"$_id\" },\n",
      "                         \"count\": \n",
      "                             { \"$sum\": 1 }\n",
      "                         }\n",
      "             },\n",
      "            \n",
      "            { \"$match\": \n",
      "                 {\"count\": { \"$gt\": 1 }\n",
      "                }\n",
      "             }, \n",
      "            {\"$limit\": 1}\n",
      "    ]\n",
      "    res = mongo_collection.aggregate(data)\n",
      "    return res\n",
      "\n",
      "result = mongo_group_uniquemd5_count()\n"
     ],
     "language": "python",
     "metadata": {},
     "outputs": []
    },
    {
     "cell_type": "code",
     "collapsed": false,
     "input": [
      "## Find Records in an array Then Group by a field or collection ## Below unwinds the metadata array then\n",
      "def aggregate_metadata_grouped_values(unwind_array=None, grouping_params=None, limit_amt=0):\n",
      "    from bson import Binary, Code, SON\n",
      "    if not unwind_array:\n",
      "        unwind_array=\"$metadata.File\"\n",
      "    if not grouping_params:\n",
      "        grouping_params = \"$metadata.File.Directory\"\n",
      "    piped = [\n",
      "            {\"$project\": {\n",
      "            {\"$unwind\": unwind_array},\n",
      "            {\"$group\": {\"_id\": grouping_params, \"count\": {\"$sum\": 1}}},\n",
      "            {\"$sort\": SON([(\"count\", -1), (\"_id\", -1)])},\n",
      "            {\"$limit\": limit_amt},\n",
      "                {\"item\": 1},\n",
      "                {\"md5Sum\": \"$md5\"},\n",
      "                {\"FileName\": \"$metadata.File.Filename\"}\n",
      "                }\n",
      "            }\n",
      "        ]\n",
      "    ret = mongo_collection.aggregate(piped, allowDiskUse=True)\n",
      "    return ret\n",
      "\n",
      "res = aggregate_metadata_grouped_values(unwind_array=None, grouping_params=None, limit_amt=5)\n",
      "print res\n"
     ],
     "language": "python",
     "metadata": {},
     "outputs": []
    },
    {
     "cell_type": "code",
     "collapsed": false,
     "input": [
      "#######\n",
      "#res = get_duplicate_records(db_name='gridfs_file7', collection_name='fs.files')\n",
      "#res = get_duplicate_records(db_name='gridfs_mrktplce', collection_name='fs.files')\n",
      "mongo_collection.runCommand(\n",
      "   { \"aggregate\": \"stocks\",\n",
      "     \"pipeline\": [\n",
      "                 { $project : { cusip: 1, date: 1, price: 1, _id: 0 } },\n",
      "                 { $sort : { cusip : 1, date: 1 } }\n",
      "               ],\n",
      "     allowDiskUse: true\n",
      "   }\n",
      ")\n"
     ],
     "language": "python",
     "metadata": {},
     "outputs": []
    }
   ],
   "metadata": {}
  }
 ]
}